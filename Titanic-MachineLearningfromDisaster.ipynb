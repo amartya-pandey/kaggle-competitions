{
 "cells": [
  {
   "cell_type": "markdown",
   "id": "19e67332",
   "metadata": {
    "papermill": {
     "duration": 0.005289,
     "end_time": "2025-03-19T14:07:29.292919",
     "exception": false,
     "start_time": "2025-03-19T14:07:29.287630",
     "status": "completed"
    },
    "tags": []
   },
   "source": [
    "# Titanic Survival Prediction\n",
    "\n",
    "\n",
    "**Models Used:**\n",
    "- Logistic Regression\n",
    "- Random Forest Classifier"
   ]
  },
  {
   "cell_type": "code",
   "execution_count": 1,
   "id": "d0a6fc84",
   "metadata": {
    "execution": {
     "iopub.execute_input": "2025-03-19T14:07:29.303605Z",
     "iopub.status.busy": "2025-03-19T14:07:29.303263Z",
     "iopub.status.idle": "2025-03-19T14:07:30.254457Z",
     "shell.execute_reply": "2025-03-19T14:07:30.253303Z"
    },
    "papermill": {
     "duration": 0.958735,
     "end_time": "2025-03-19T14:07:30.256453",
     "exception": false,
     "start_time": "2025-03-19T14:07:29.297718",
     "status": "completed"
    },
    "tags": []
   },
   "outputs": [],
   "source": [
    "import pandas as pd\n",
    "import numpy as np\n",
    "import re"
   ]
  },
  {
   "cell_type": "markdown",
   "id": "5bbc43d2",
   "metadata": {
    "papermill": {
     "duration": 0.004367,
     "end_time": "2025-03-19T14:07:30.265681",
     "exception": false,
     "start_time": "2025-03-19T14:07:30.261314",
     "status": "completed"
    },
    "tags": []
   },
   "source": [
    "## Load Training Data"
   ]
  },
  {
   "cell_type": "code",
   "execution_count": 2,
   "id": "4bc8fbcc",
   "metadata": {
    "execution": {
     "iopub.execute_input": "2025-03-19T14:07:30.276847Z",
     "iopub.status.busy": "2025-03-19T14:07:30.276348Z",
     "iopub.status.idle": "2025-03-19T14:07:30.304095Z",
     "shell.execute_reply": "2025-03-19T14:07:30.302934Z"
    },
    "papermill": {
     "duration": 0.035706,
     "end_time": "2025-03-19T14:07:30.306215",
     "exception": false,
     "start_time": "2025-03-19T14:07:30.270509",
     "status": "completed"
    },
    "tags": []
   },
   "outputs": [],
   "source": [
    "# Load the training data\n",
    "train = pd.read_csv(\"/kaggle/input/titanic/train.csv\")\n",
    "test = pd.read_csv(\"/kaggle/input/titanic/test.csv\")"
   ]
  },
  {
   "cell_type": "markdown",
   "id": "efe66dce",
   "metadata": {
    "papermill": {
     "duration": 0.004409,
     "end_time": "2025-03-19T14:07:30.315461",
     "exception": false,
     "start_time": "2025-03-19T14:07:30.311052",
     "status": "completed"
    },
    "tags": []
   },
   "source": [
    "## Feature Engineering"
   ]
  },
  {
   "cell_type": "code",
   "execution_count": 3,
   "id": "16a83f7f",
   "metadata": {
    "execution": {
     "iopub.execute_input": "2025-03-19T14:07:30.326179Z",
     "iopub.status.busy": "2025-03-19T14:07:30.325724Z",
     "iopub.status.idle": "2025-03-19T14:07:30.337219Z",
     "shell.execute_reply": "2025-03-19T14:07:30.336238Z"
    },
    "papermill": {
     "duration": 0.01873,
     "end_time": "2025-03-19T14:07:30.338888",
     "exception": false,
     "start_time": "2025-03-19T14:07:30.320158",
     "status": "completed"
    },
    "tags": []
   },
   "outputs": [],
   "source": [
    "def extract_title(name):\n",
    "    title_search = re.search(' ([A-Za-z]+)\\.', name)\n",
    "    if title_search:\n",
    "        return title_search.group(1)\n",
    "    return \"\"\n",
    "\n",
    "train['Title'] = train['Name'].apply(extract_title)"
   ]
  },
  {
   "cell_type": "code",
   "execution_count": 4,
   "id": "4dde15e6",
   "metadata": {
    "execution": {
     "iopub.execute_input": "2025-03-19T14:07:30.350090Z",
     "iopub.status.busy": "2025-03-19T14:07:30.349678Z",
     "iopub.status.idle": "2025-03-19T14:07:30.354562Z",
     "shell.execute_reply": "2025-03-19T14:07:30.353473Z"
    },
    "papermill": {
     "duration": 0.012396,
     "end_time": "2025-03-19T14:07:30.356467",
     "exception": false,
     "start_time": "2025-03-19T14:07:30.344071",
     "status": "completed"
    },
    "tags": []
   },
   "outputs": [],
   "source": [
    "title_mapping = {\n",
    "    \"Mr\": \"Mr\",\n",
    "    \"Miss\": \"Miss\",\n",
    "    \"Mrs\": \"Mrs\",\n",
    "    \"Master\": \"Master\",\n",
    "    \"Dr\": \"Rare\", \"Rev\": \"Rare\", \"Col\": \"Rare\", \"Major\": \"Rare\",\n",
    "    \"Mlle\": \"Miss\", \"Ms\": \"Miss\", \"Mme\": \"Mrs\",\n",
    "    \"Countess\": \"Rare\", \"Don\": \"Rare\", \"Jonkheer\": \"Rare\", \"Sir\": \"Rare\", \"Lady\": \"Rare\", \"Capt\": \"Rare\"\n",
    "}"
   ]
  },
  {
   "cell_type": "code",
   "execution_count": 5,
   "id": "bff6baa7",
   "metadata": {
    "execution": {
     "iopub.execute_input": "2025-03-19T14:07:30.367228Z",
     "iopub.status.busy": "2025-03-19T14:07:30.366837Z",
     "iopub.status.idle": "2025-03-19T14:07:31.812597Z",
     "shell.execute_reply": "2025-03-19T14:07:31.811414Z"
    },
    "papermill": {
     "duration": 1.453471,
     "end_time": "2025-03-19T14:07:31.814797",
     "exception": false,
     "start_time": "2025-03-19T14:07:30.361326",
     "status": "completed"
    },
    "tags": []
   },
   "outputs": [],
   "source": [
    "from sklearn.preprocessing import LabelEncoder, OneHotEncoder"
   ]
  },
  {
   "cell_type": "code",
   "execution_count": 6,
   "id": "d654416a",
   "metadata": {
    "execution": {
     "iopub.execute_input": "2025-03-19T14:07:31.825795Z",
     "iopub.status.busy": "2025-03-19T14:07:31.825289Z",
     "iopub.status.idle": "2025-03-19T14:07:31.866271Z",
     "shell.execute_reply": "2025-03-19T14:07:31.865054Z"
    },
    "papermill": {
     "duration": 0.048651,
     "end_time": "2025-03-19T14:07:31.868342",
     "exception": false,
     "start_time": "2025-03-19T14:07:31.819691",
     "status": "completed"
    },
    "tags": []
   },
   "outputs": [
    {
     "name": "stderr",
     "output_type": "stream",
     "text": [
      "<ipython-input-6-ade022079c53>:17: FutureWarning: Downcasting behavior in `replace` is deprecated and will be removed in a future version. To retain the old behavior, explicitly call `result.infer_objects(copy=False)`. To opt-in to the future behavior, set `pd.set_option('future.no_silent_downcasting', True)`\n",
      "  train['Sex'] = train['Sex'].replace({'male': 0, 'female': 1})\n"
     ]
    }
   ],
   "source": [
    "train['Title'] = train['Title'].map(title_mapping)\n",
    "train['Title'] = train['Title'].fillna('Rare')\n",
    "\n",
    "\n",
    "le = LabelEncoder()\n",
    "train['Title'] = le.fit_transform(train['Title'])\n",
    "\n",
    "train['FamilySize'] = train['SibSp'] + train['Parch'] + 1\n",
    "train['IsAlone'] = (train['FamilySize'] == 1).astype(int)\n",
    "\n",
    "train['Age'] = train['Age'].fillna(train['Age'].median())\n",
    "train['AgeBand'] = pd.cut(train['Age'], 5, labels=False)\n",
    "\n",
    "train['Fare'] = train['Fare'].fillna(train['Fare'].median())\n",
    "train['FareBand'] = pd.qcut(train['Fare'], 4, labels=False)\n",
    "\n",
    "train['Sex'] = train['Sex'].replace({'male': 0, 'female': 1})\n",
    "# One-hot encoding the Embarked column\n",
    "train['Embarked'] = train['Embarked'].fillna('S')\n",
    "ohe = OneHotEncoder(handle_unknown='ignore', sparse_output=False)\n",
    "embarked_oh = ohe.fit_transform(train[['Embarked']])\n",
    "embarked_oh_df = pd.DataFrame(embarked_oh, columns=ohe.get_feature_names_out(['Embarked']))\n",
    "embarked_oh_df.index = train.index\n",
    "\n",
    "# Combining\n",
    "train = pd.concat([train, embarked_oh_df], axis=1)\n",
    "\n",
    "# Drop columns\n",
    "train_processed = train.drop(['PassengerId', 'Name', 'Ticket', 'Cabin', 'Embarked', 'SibSp', 'Parch', 'Age', 'Fare'], axis=1)\n",
    "\n",
    "# Separate features and target\n",
    "X = train_processed.drop('Survived', axis=1)\n",
    "y = train_processed['Survived']"
   ]
  },
  {
   "cell_type": "markdown",
   "id": "01dcc311",
   "metadata": {
    "papermill": {
     "duration": 0.004425,
     "end_time": "2025-03-19T14:07:31.877617",
     "exception": false,
     "start_time": "2025-03-19T14:07:31.873192",
     "status": "completed"
    },
    "tags": []
   },
   "source": [
    "## Split Data & Scale Features"
   ]
  },
  {
   "cell_type": "code",
   "execution_count": 7,
   "id": "e4f7ba85",
   "metadata": {
    "execution": {
     "iopub.execute_input": "2025-03-19T14:07:31.888101Z",
     "iopub.status.busy": "2025-03-19T14:07:31.887670Z",
     "iopub.status.idle": "2025-03-19T14:07:32.015399Z",
     "shell.execute_reply": "2025-03-19T14:07:32.014216Z"
    },
    "papermill": {
     "duration": 0.135141,
     "end_time": "2025-03-19T14:07:32.017369",
     "exception": false,
     "start_time": "2025-03-19T14:07:31.882228",
     "status": "completed"
    },
    "tags": []
   },
   "outputs": [],
   "source": [
    "from sklearn.model_selection import train_test_split\n",
    "from sklearn.preprocessing import StandardScaler"
   ]
  },
  {
   "cell_type": "code",
   "execution_count": 8,
   "id": "75fc2c39",
   "metadata": {
    "execution": {
     "iopub.execute_input": "2025-03-19T14:07:32.028365Z",
     "iopub.status.busy": "2025-03-19T14:07:32.027994Z",
     "iopub.status.idle": "2025-03-19T14:07:32.043090Z",
     "shell.execute_reply": "2025-03-19T14:07:32.041932Z"
    },
    "papermill": {
     "duration": 0.023117,
     "end_time": "2025-03-19T14:07:32.045428",
     "exception": false,
     "start_time": "2025-03-19T14:07:32.022311",
     "status": "completed"
    },
    "tags": []
   },
   "outputs": [],
   "source": [
    "X_train, X_val, y_train, y_val = train_test_split(X, y, test_size=0.2, random_state=42)\n",
    "\n",
    "scaler = StandardScaler()\n",
    "X_train_scaled = scaler.fit_transform(X_train)\n",
    "X_val_scaled = scaler.transform(X_val)"
   ]
  },
  {
   "cell_type": "markdown",
   "id": "d05bf103",
   "metadata": {
    "papermill": {
     "duration": 0.004569,
     "end_time": "2025-03-19T14:07:32.055157",
     "exception": false,
     "start_time": "2025-03-19T14:07:32.050588",
     "status": "completed"
    },
    "tags": []
   },
   "source": [
    "## Logistic Regression Model"
   ]
  },
  {
   "cell_type": "code",
   "execution_count": 9,
   "id": "2fef379d",
   "metadata": {
    "execution": {
     "iopub.execute_input": "2025-03-19T14:07:32.065885Z",
     "iopub.status.busy": "2025-03-19T14:07:32.065547Z",
     "iopub.status.idle": "2025-03-19T14:07:32.192701Z",
     "shell.execute_reply": "2025-03-19T14:07:32.191566Z"
    },
    "papermill": {
     "duration": 0.134773,
     "end_time": "2025-03-19T14:07:32.194648",
     "exception": false,
     "start_time": "2025-03-19T14:07:32.059875",
     "status": "completed"
    },
    "tags": []
   },
   "outputs": [],
   "source": [
    "from sklearn.linear_model import LogisticRegression\n",
    "from sklearn.metrics import accuracy_score, classification_report"
   ]
  },
  {
   "cell_type": "code",
   "execution_count": 10,
   "id": "85b3d32c",
   "metadata": {
    "execution": {
     "iopub.execute_input": "2025-03-19T14:07:32.206104Z",
     "iopub.status.busy": "2025-03-19T14:07:32.205682Z",
     "iopub.status.idle": "2025-03-19T14:07:32.248674Z",
     "shell.execute_reply": "2025-03-19T14:07:32.247506Z"
    },
    "papermill": {
     "duration": 0.050664,
     "end_time": "2025-03-19T14:07:32.250586",
     "exception": false,
     "start_time": "2025-03-19T14:07:32.199922",
     "status": "completed"
    },
    "tags": []
   },
   "outputs": [
    {
     "name": "stdout",
     "output_type": "stream",
     "text": [
      "Logistic Regression Accuracy: 0.8044692737430168\n",
      "              precision    recall  f1-score   support\n",
      "\n",
      "           0       0.82      0.86      0.84       105\n",
      "           1       0.78      0.73      0.76        74\n",
      "\n",
      "    accuracy                           0.80       179\n",
      "   macro avg       0.80      0.79      0.80       179\n",
      "weighted avg       0.80      0.80      0.80       179\n",
      "\n"
     ]
    }
   ],
   "source": [
    "log_reg = LogisticRegression(random_state=42)\n",
    "log_reg.fit(X_train_scaled, y_train)\n",
    "\n",
    "val_predictions_log = log_reg.predict(X_val_scaled)\n",
    "\n",
    "print(\"Logistic Regression Accuracy:\", accuracy_score(y_val, val_predictions_log))\n",
    "print(classification_report(y_val, val_predictions_log))"
   ]
  },
  {
   "cell_type": "markdown",
   "id": "0c0bdb49",
   "metadata": {
    "papermill": {
     "duration": 0.004794,
     "end_time": "2025-03-19T14:07:32.260515",
     "exception": false,
     "start_time": "2025-03-19T14:07:32.255721",
     "status": "completed"
    },
    "tags": []
   },
   "source": [
    "## Random Forest Classifier"
   ]
  },
  {
   "cell_type": "code",
   "execution_count": 11,
   "id": "dea32130",
   "metadata": {
    "execution": {
     "iopub.execute_input": "2025-03-19T14:07:32.271376Z",
     "iopub.status.busy": "2025-03-19T14:07:32.270985Z",
     "iopub.status.idle": "2025-03-19T14:07:32.568569Z",
     "shell.execute_reply": "2025-03-19T14:07:32.567493Z"
    },
    "papermill": {
     "duration": 0.305221,
     "end_time": "2025-03-19T14:07:32.570559",
     "exception": false,
     "start_time": "2025-03-19T14:07:32.265338",
     "status": "completed"
    },
    "tags": []
   },
   "outputs": [],
   "source": [
    "from sklearn.ensemble import RandomForestClassifier\n",
    "from sklearn.metrics import accuracy_score, classification_report"
   ]
  },
  {
   "cell_type": "code",
   "execution_count": 12,
   "id": "16dda2dd",
   "metadata": {
    "execution": {
     "iopub.execute_input": "2025-03-19T14:07:32.581799Z",
     "iopub.status.busy": "2025-03-19T14:07:32.581414Z",
     "iopub.status.idle": "2025-03-19T14:07:32.764816Z",
     "shell.execute_reply": "2025-03-19T14:07:32.763489Z"
    },
    "papermill": {
     "duration": 0.190922,
     "end_time": "2025-03-19T14:07:32.766675",
     "exception": false,
     "start_time": "2025-03-19T14:07:32.575753",
     "status": "completed"
    },
    "tags": []
   },
   "outputs": [
    {
     "name": "stdout",
     "output_type": "stream",
     "text": [
      "Random Forest Accuracy: 0.8212290502793296\n",
      "              precision    recall  f1-score   support\n",
      "\n",
      "           0       0.82      0.90      0.85       105\n",
      "           1       0.83      0.72      0.77        74\n",
      "\n",
      "    accuracy                           0.82       179\n",
      "   macro avg       0.82      0.81      0.81       179\n",
      "weighted avg       0.82      0.82      0.82       179\n",
      "\n"
     ]
    }
   ],
   "source": [
    "rf_model = RandomForestClassifier(n_estimators=100, max_depth=5, random_state=42)\n",
    "rf_model.fit(X_train_scaled, y_train)\n",
    "\n",
    "val_predictions_rf = rf_model.predict(X_val_scaled)\n",
    "\n",
    "print(\"Random Forest Accuracy:\", accuracy_score(y_val, val_predictions_rf))\n",
    "print(classification_report(y_val, val_predictions_rf))"
   ]
  },
  {
   "cell_type": "markdown",
   "id": "dcd60c76",
   "metadata": {
    "papermill": {
     "duration": 0.004651,
     "end_time": "2025-03-19T14:07:32.776310",
     "exception": false,
     "start_time": "2025-03-19T14:07:32.771659",
     "status": "completed"
    },
    "tags": []
   },
   "source": [
    "## Load and Preprocess Test Data"
   ]
  },
  {
   "cell_type": "code",
   "execution_count": 13,
   "id": "4b2dc408",
   "metadata": {
    "execution": {
     "iopub.execute_input": "2025-03-19T14:07:32.788194Z",
     "iopub.status.busy": "2025-03-19T14:07:32.787769Z",
     "iopub.status.idle": "2025-03-19T14:07:32.812657Z",
     "shell.execute_reply": "2025-03-19T14:07:32.811451Z"
    },
    "papermill": {
     "duration": 0.032739,
     "end_time": "2025-03-19T14:07:32.814462",
     "exception": false,
     "start_time": "2025-03-19T14:07:32.781723",
     "status": "completed"
    },
    "tags": []
   },
   "outputs": [
    {
     "name": "stderr",
     "output_type": "stream",
     "text": [
      "<ipython-input-13-08d83ec9b99f>:20: FutureWarning: Downcasting behavior in `replace` is deprecated and will be removed in a future version. To retain the old behavior, explicitly call `result.infer_objects(copy=False)`. To opt-in to the future behavior, set `pd.set_option('future.no_silent_downcasting', True)`\n",
      "  test['Sex'] = test['Sex'].replace({'male': 0, 'female': 1})\n"
     ]
    }
   ],
   "source": [
    "passenger_id = test['PassengerId']    # preserve PassengerId\n",
    "\n",
    "test['Title'] = test['Name'].apply(extract_title)\n",
    "test['Title'] = test['Title'].map(title_mapping)\n",
    "test['Title'] = test['Title'].fillna('Rare')\n",
    "test['Title'] = le.transform(test['Title'])\n",
    "\n",
    "test['FamilySize'] = test['SibSp'] + test['Parch'] + 1\n",
    "test['IsAlone'] = (test['FamilySize'] == 1).astype(int)\n",
    "\n",
    "age_median = train['Age'].median()\n",
    "fare_median = train['Fare'].median()\n",
    "\n",
    "test['Age'] = test['Age'].fillna(age_median)\n",
    "test['AgeBand'] = pd.cut(test['Age'], 5, labels=False)\n",
    "\n",
    "test['Fare'] = test['Fare'].fillna(fare_median)\n",
    "test['FareBand'] = pd.qcut(test['Fare'], 4, labels=False)\n",
    "\n",
    "test['Sex'] = test['Sex'].replace({'male': 0, 'female': 1})\n",
    "\n",
    "test['Embarked'] = test['Embarked'].fillna('S')\n",
    "embarked_oh_test = ohe.transform(test[['Embarked']])\n",
    "embarked_oh_test_df = pd.DataFrame(embarked_oh_test, columns=ohe.get_feature_names_out(['Embarked']))\n",
    "embarked_oh_test_df.index = test.index\n",
    "\n",
    "test = pd.concat([test, embarked_oh_test_df], axis=1)\n",
    "\n",
    "test_processed = test.drop(['PassengerId', 'Name', 'Ticket', 'Cabin', 'Embarked', 'SibSp', 'Parch', 'Age', 'Fare'], axis=1)\n",
    "\n"
   ]
  },
  {
   "cell_type": "code",
   "execution_count": null,
   "id": "7f6f2a5a",
   "metadata": {
    "execution": {
     "iopub.execute_input": "2025-03-19T14:05:18.927697Z",
     "iopub.status.busy": "2025-03-19T14:05:18.927300Z",
     "iopub.status.idle": "2025-03-19T14:05:18.957037Z",
     "shell.execute_reply": "2025-03-19T14:05:18.956245Z",
     "shell.execute_reply.started": "2025-03-19T14:05:18.927667Z"
    },
    "papermill": {
     "duration": 0.004738,
     "end_time": "2025-03-19T14:07:32.824415",
     "exception": false,
     "start_time": "2025-03-19T14:07:32.819677",
     "status": "completed"
    },
    "tags": []
   },
   "outputs": [],
   "source": []
  },
  {
   "cell_type": "markdown",
   "id": "02390181",
   "metadata": {
    "papermill": {
     "duration": 0.004647,
     "end_time": "2025-03-19T14:07:32.834083",
     "exception": false,
     "start_time": "2025-03-19T14:07:32.829436",
     "status": "completed"
    },
    "tags": []
   },
   "source": []
  },
  {
   "cell_type": "code",
   "execution_count": 14,
   "id": "e781a56d",
   "metadata": {
    "execution": {
     "iopub.execute_input": "2025-03-19T14:07:32.845505Z",
     "iopub.status.busy": "2025-03-19T14:07:32.845126Z",
     "iopub.status.idle": "2025-03-19T14:07:32.873999Z",
     "shell.execute_reply": "2025-03-19T14:07:32.872615Z"
    },
    "papermill": {
     "duration": 0.036575,
     "end_time": "2025-03-19T14:07:32.875830",
     "exception": false,
     "start_time": "2025-03-19T14:07:32.839255",
     "status": "completed"
    },
    "tags": []
   },
   "outputs": [
    {
     "name": "stdout",
     "output_type": "stream",
     "text": [
      "created\n"
     ]
    },
    {
     "name": "stderr",
     "output_type": "stream",
     "text": [
      "/usr/local/lib/python3.10/dist-packages/sklearn/base.py:432: UserWarning: X has feature names, but RandomForestClassifier was fitted without feature names\n",
      "  warnings.warn(\n"
     ]
    }
   ],
   "source": [
    "test_predictions = rf_model.predict(test_processed)\n",
    "\n",
    "submission = pd.DataFrame({\n",
    "    'PassengerId': passenger_id,\n",
    "    'Survived': test_predictions\n",
    "})\n",
    "\n",
    "submission.to_csv(\"titanic_submission.csv\", index=False)\n",
    "print(\"created\")"
   ]
  },
  {
   "cell_type": "code",
   "execution_count": null,
   "id": "db3ebc5a",
   "metadata": {
    "papermill": {
     "duration": 0.00471,
     "end_time": "2025-03-19T14:07:32.885769",
     "exception": false,
     "start_time": "2025-03-19T14:07:32.881059",
     "status": "completed"
    },
    "tags": []
   },
   "outputs": [],
   "source": []
  }
 ],
 "metadata": {
  "kaggle": {
   "accelerator": "none",
   "dataSources": [
    {
     "databundleVersionId": 26502,
     "sourceId": 3136,
     "sourceType": "competition"
    }
   ],
   "dockerImageVersionId": 30918,
   "isGpuEnabled": false,
   "isInternetEnabled": true,
   "language": "python",
   "sourceType": "notebook"
  },
  "kernelspec": {
   "display_name": "Python 3",
   "language": "python",
   "name": "python3"
  },
  "language_info": {
   "codemirror_mode": {
    "name": "ipython",
    "version": 3
   },
   "file_extension": ".py",
   "mimetype": "text/x-python",
   "name": "python",
   "nbconvert_exporter": "python",
   "pygments_lexer": "ipython3",
   "version": "3.10.12"
  },
  "papermill": {
   "default_parameters": {},
   "duration": 7.125583,
   "end_time": "2025-03-19T14:07:33.611124",
   "environment_variables": {},
   "exception": null,
   "input_path": "__notebook__.ipynb",
   "output_path": "__notebook__.ipynb",
   "parameters": {},
   "start_time": "2025-03-19T14:07:26.485541",
   "version": "2.6.0"
  }
 },
 "nbformat": 4,
 "nbformat_minor": 5
}
